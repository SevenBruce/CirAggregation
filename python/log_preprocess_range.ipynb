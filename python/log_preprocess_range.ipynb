{
    "cells": [
        {
            "cell_type": "code",
            "execution_count": 14,
            "source": [
                "import numpy as np\n",
                "import os\n",
                "\n",
                "log_dir = 'range_log'\n",
                "log_list = []\n",
                "time_list = []\n",
                "for r, _, files in os.walk(log_dir):\n",
                "    for f in files:\n",
                "        fname = os.path.join(r, f)\n",
                "        if fname.endswith('.log'):\n",
                "            log_list.append(fname)\n",
                "        else:\n",
                "            time_list.append(fname)\n",
                "# print(time_list)\n",
                "print(len(log_list))"
            ],
            "outputs": [
                {
                    "output_type": "stream",
                    "name": "stdout",
                    "text": [
                        "1001\n"
                    ]
                }
            ],
            "metadata": {}
        },
        {
            "cell_type": "code",
            "execution_count": 15,
            "source": [
                "import re\n",
                "\n",
                "def parse_time(l):\n",
                "    pattern = '[0-9]{4}-[0-9]{2}-[0-9]{2}T[0-9]{6}'\n",
                "    base = os.path.basename(l)\n",
                "    return re.search(pattern, base).group()\n",
                "\n",
                "print(log_list[0])\n",
                "t = parse_time(log_list[0])\n",
                "\n",
                "print(t)"
            ],
            "outputs": [
                {
                    "output_type": "stream",
                    "name": "stdout",
                    "text": [
                        "range_log/nrange/log_2021-07-29T233222.log\n",
                        "2021-07-29T233222\n"
                    ]
                }
            ],
            "metadata": {}
        },
        {
            "cell_type": "code",
            "execution_count": 16,
            "source": [
                "def parse_block(block, name, host):\n",
                "    m = {}\n",
                "    m['func'] = block[0]\n",
                "    meter_num = 0\n",
                "    meter_time = 0\n",
                "    control =['server', 'supplier', 'center']\n",
                "    ta = ['ttp', 'kgc', 'ta']\n",
                "    m['control'] = 0\n",
                "    m['ta'] = 0\n",
                "    m['agg'] = 0\n",
                "    for r in block[2::2]:\n",
                "        x, y = r.split(':')\n",
                "        t = sum(int(e) for e in y.split(','))\n",
                "        if x.startswith('meter_'):\n",
                "            meter_num += 1\n",
                "            meter_time += t\n",
                "        elif x in control:\n",
                "            m['control'] = +t\n",
                "        elif x in ta:\n",
                "            m['ta'] = t\n",
                "        else:\n",
                "            m[x] = t\n",
                "    \n",
                "    m['meter_num'] = meter_num\n",
                "    m['meter_time'] = meter_time\n",
                "    m['name'] = name\n",
                "    m['host'] = host\n",
                "    return m\n",
                "\n",
                "def parse_record(lines):\n",
                "    pattern = '[^ ]*$'\n",
                "    host_pattern = '[^ ]*'\n",
                "    name_pattern = 'bjut\\.(.*)\\.myMain'\n",
                "    host = re.search(host_pattern, lines[0]).group()\n",
                "    name = re.findall(name_pattern, lines[0])[0]\n",
                "\n",
                "    func_block = []\n",
                "    block = []\n",
                "    for line in lines:\n",
                "        s = re.search(pattern, line).group().strip()\n",
                "        # print(s)\n",
                "        # parse function block\n",
                "        if ':' not in s: # enter function\n",
                "            if len(block) != 0:\n",
                "                func_block.append(block)\n",
                "            block = []\n",
                "            block.append(s)\n",
                "        else:\n",
                "            block.append(s)\n",
                "    if len(block) != 0:\n",
                "        func_block.append(block)\n",
                "\n",
                "    # print(func_block[0])\n",
                "    record_list = []\n",
                "    for b in func_block:\n",
                "        r = parse_block(b, name, host)\n",
                "        record_list.append(r)\n",
                "    k = 10\n",
                "    for r in record_list:\n",
                "        r['func'] = r['func'] + '_r' + str(k)\n",
                "        k -= 1\n",
                "    return record_list"
            ],
            "outputs": [],
            "metadata": {}
        },
        {
            "cell_type": "code",
            "execution_count": 17,
            "source": [
                "import csv\n",
                "\n",
                "linelen_set = {}\n",
                "for l in log_list:\n",
                "    with open(l) as fo:\n",
                "        lines = fo.readlines()\n",
                "        line_len = len(lines)\n",
                "        if line_len not in linelen_set:\n",
                "            linelen_set[line_len] = 1\n",
                "        else:\n",
                "            linelen_set[line_len] += 1\n",
                "print(linelen_set)\n",
                "right_line_set = []\n",
                "for k,v in linelen_set.items():\n",
                "    if v > 20:\n",
                "        right_line_set.append(k)\n",
                "print(right_line_set)\n",
                "\n",
                "\n",
                "fields_name = []\n",
                "with open('range_data.csv', 'w', newline='') as csvfile:\n",
                "    writer = None\n",
                "    cur_len = 0\n",
                "    for l in log_list:\n",
                "        log_time = parse_time(l)\n",
                "        with open(l) as fo:\n",
                "            try:\n",
                "                lines = fo.readlines()\n",
                "                line_len = len(lines)\n",
                "                if line_len not in right_line_set:\n",
                "                    continue\n",
                "                record = parse_record(lines)\n",
                "                if len(fields_name) == 0:\n",
                "                    fields_name  = fields_name + [k for k in record[0].keys()]\n",
                "                    fields_name.append('timestamp')\n",
                "                    writer = csv.DictWriter(csvfile, fieldnames=fields_name)\n",
                "                    writer.writeheader()\n",
                "                    print(fields_name)\n",
                "                for l in record:\n",
                "                    l['timestamp'] = log_time\n",
                "                    writer.writerow(l)\n",
                "            except ValueError as e:\n",
                "                print(l)\n",
                "                print(e)\n",
                "\n",
                "print('sucess')"
            ],
            "outputs": [
                {
                    "output_type": "stream",
                    "name": "stdout",
                    "text": [
                        "{405: 1000, 0: 1}\n",
                        "[405]\n",
                        "['func', 'control', 'ta', 'agg', 'meter_num', 'meter_time', 'name', 'host', 'timestamp']\n",
                        "sucess\n"
                    ]
                }
            ],
            "metadata": {}
        }
    ],
    "metadata": {
        "orig_nbformat": 4,
        "language_info": {
            "name": "python",
            "version": "3.8.5",
            "mimetype": "text/x-python",
            "codemirror_mode": {
                "name": "ipython",
                "version": 3
            },
            "pygments_lexer": "ipython3",
            "nbconvert_exporter": "python",
            "file_extension": ".py"
        },
        "kernelspec": {
            "name": "python3",
            "display_name": "Python 3.8.5 64-bit ('sci': conda)"
        },
        "interpreter": {
            "hash": "824148249c572b9bdacecab5898e3922dbd15dbfe1d221af1999b32354c4b077"
        }
    },
    "nbformat": 4,
    "nbformat_minor": 2
}