{
    "cells": [
        {
            "cell_type": "code",
            "execution_count": 1,
            "source": [
                "import numpy as np\n",
                "import os\n",
                "\n",
                "log_dir = 'pi_log'\n",
                "log_list = []\n",
                "time_list = []\n",
                "for _, _, files in os.walk(log_dir):\n",
                "    for f in files:\n",
                "        fname = os.path.join(log_dir, f)\n",
                "        if fname.endswith('.log'):\n",
                "            log_list.append(fname)\n",
                "        else:\n",
                "            time_list.append(fname)\n",
                "# print(time_list)\n",
                "# print(log_list)"
            ],
            "outputs": [],
            "metadata": {}
        },
        {
            "cell_type": "code",
            "execution_count": 2,
            "source": [
                "import re\n",
                "\n",
                "def parse_time(l):\n",
                "    pattern = '[0-9]{4}-[0-9]{2}-[0-9]{2}T[0-9]{6}'\n",
                "    base = os.path.basename(l)\n",
                "    return re.search(pattern, base).group()\n",
                "\n",
                "print(log_list[0])\n",
                "t = parse_time(log_list[0])\n",
                "\n",
                "print(t)"
            ],
            "outputs": [
                {
                    "output_type": "stream",
                    "name": "stdout",
                    "text": [
                        "pi_log/log_2021-07-15T011027.log\n",
                        "2021-07-15T011027\n"
                    ]
                }
            ],
            "metadata": {}
        },
        {
            "cell_type": "code",
            "execution_count": 3,
            "source": [
                "def parse_block(block, name, host):\n",
                "    m = {}\n",
                "    m['func'] = block[0]\n",
                "    meter_num = 0\n",
                "    meter_time = 0\n",
                "    control =['server', 'supplier', 'center']\n",
                "    ta = ['ttp', 'kgc', 'ta']\n",
                "    m['control'] = 0\n",
                "    m['ta'] = 0\n",
                "    m['agg'] = 0\n",
                "    for r in block[2::2]:\n",
                "        x, y = r.split(':')\n",
                "        t = sum(int(e) for e in y.split(','))\n",
                "        if x.startswith('meter_'):\n",
                "            meter_num += 1\n",
                "            meter_time += t\n",
                "        elif x in control:\n",
                "            m['control'] = +t\n",
                "        elif x in ta:\n",
                "            m['ta'] = t\n",
                "        else:\n",
                "            m[x] = t\n",
                "    \n",
                "    m['meter_num'] = meter_num\n",
                "    m['meter_time'] = meter_time\n",
                "    m['name'] = name\n",
                "    m['host'] = host\n",
                "    return m\n",
                "\n",
                "def parse_record(lines):\n",
                "    pattern = '[^ ]*$'\n",
                "    host_pattern = '[^ ]*'\n",
                "    name_pattern = 'bjut\\.(.*)\\.myMain'\n",
                "    host = re.search(host_pattern, lines[0]).group()\n",
                "    name = re.findall(name_pattern, lines[0])[0]\n",
                "\n",
                "    func_block = []\n",
                "    block = []\n",
                "    for line in lines:\n",
                "        s = re.search(pattern, line).group().strip()\n",
                "        # print(s)\n",
                "        # parse function block\n",
                "        if ':' not in s: # enter function\n",
                "            if len(block) != 0:\n",
                "                func_block.append(block)\n",
                "            block = []\n",
                "            block.append(s)\n",
                "        else:\n",
                "            block.append(s)\n",
                "    if len(block) != 0:\n",
                "        func_block.append(block)\n",
                "\n",
                "    # print(func_block[0])\n",
                "    record_list = []\n",
                "    for b in func_block:\n",
                "        r = parse_block(b, name, host)\n",
                "        record_list.append(r)\n",
                "    if name == 'cir':\n",
                "        for r in record_list[2:15:3]:\n",
                "            r['func'] = r['func'] + '_3'\n",
                "        k = 2\n",
                "        for r in record_list[17:30:3]:\n",
                "            r['func'] = r['func'] + '_' + str(k)\n",
                "            k += 1\n",
                "        k = 2\n",
                "        for r in record_list[30:]:\n",
                "            r['func'] = r['func'] + '_r' + str(k)\n",
                "            k += 1\n",
                "        record_list = record_list[1:]\n",
                "    return record_list"
            ],
            "outputs": [],
            "metadata": {}
        },
        {
            "cell_type": "code",
            "execution_count": 4,
            "source": [
                "\n",
                "\n",
                "import csv\n",
                "\n",
                "fields_name = []\n",
                "with open('data.csv', 'w', newline='') as csvfile:\n",
                "    writer = None\n",
                "    for l in log_list:\n",
                "        log_time = parse_time(l)\n",
                "        with open(l) as fo:\n",
                "            record = parse_record(fo.readlines())\n",
                "            if len(fields_name) == 0:\n",
                "                fields_name  = fields_name + [k for k in record[0].keys()]\n",
                "                fields_name.append('timestamp')\n",
                "                writer = csv.DictWriter(csvfile, fieldnames=fields_name)\n",
                "                writer.writeheader()\n",
                "                print(fields_name)\n",
                "            for l in record:\n",
                "                l['timestamp'] = log_time\n",
                "                writer.writerow(l)"
            ],
            "outputs": [
                {
                    "output_type": "stream",
                    "name": "stdout",
                    "text": [
                        "['func', 'control', 'ta', 'agg', 'meter_num', 'meter_time', 'name', 'host', 'timestamp']\n"
                    ]
                }
            ],
            "metadata": {}
        }
    ],
    "metadata": {
        "orig_nbformat": 4,
        "language_info": {
            "name": "python"
        }
    },
    "nbformat": 4,
    "nbformat_minor": 2
}