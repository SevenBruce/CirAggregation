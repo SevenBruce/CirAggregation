{
    "cells": [
        {
            "cell_type": "code",
            "execution_count": 97,
            "source": [
                "import numpy as np\r\n",
                "import os\r\n",
                "\r\n",
                "log_dir = 'pi_log'\r\n",
                "log_list = []\r\n",
                "time_list = []\r\n",
                "for _, _, files in os.walk(log_dir):\r\n",
                "    for f in files:\r\n",
                "        fname = os.path.join(log_dir, f)\r\n",
                "        if fname.endswith('.log'):\r\n",
                "            log_list.append(fname)\r\n",
                "        else:\r\n",
                "            time_list.append(fname)\r\n",
                "print(time_list)\r\n",
                "print(log_list)"
            ],
            "outputs": [
                {
                    "output_type": "stream",
                    "name": "stdout",
                    "text": [
                        "['pi_log\\\\Boudia_20210707T013618.time', 'pi_log\\\\CircleGroup_20210707T013732.time', 'pi_log\\\\Homo_20210707T013853.time', 'pi_log\\\\Ni_20210707T013943.time']\n",
                        "['pi_log\\\\log_2021-07-07T013618.log', 'pi_log\\\\log_2021-07-07T013732.log', 'pi_log\\\\log_2021-07-07T013853.log', 'pi_log\\\\log_2021-07-07T013943.log']\n"
                    ]
                }
            ],
            "metadata": {}
        },
        {
            "cell_type": "code",
            "execution_count": 98,
            "source": [
                "import re\r\n",
                "\r\n",
                "def parse_time(l):\r\n",
                "    pattern = '[0-9]{4}-[0-9]{2}-[0-9]{2}T[0-9]{6}'\r\n",
                "    base = os.path.basename(l)\r\n",
                "    return re.search(pattern, base).group()\r\n",
                "\r\n",
                "print(log_list[0])\r\n",
                "t = parse_time(log_list[0])\r\n",
                "\r\n",
                "print(t)"
            ],
            "outputs": [
                {
                    "output_type": "stream",
                    "name": "stdout",
                    "text": [
                        "pi_log\\log_2021-07-07T013618.log\n",
                        "2021-07-07T013618\n"
                    ]
                }
            ],
            "metadata": {}
        },
        {
            "cell_type": "code",
            "execution_count": 99,
            "source": [
                "def parse_block(block):\r\n",
                "    m = {}\r\n",
                "    m['func'] = block[0]\r\n",
                "    meter_num = 0\r\n",
                "    meter_time = 0\r\n",
                "    control =['server', 'supplier', 'center']\r\n",
                "    ta = ['ttp', 'kgc', 'ta']\r\n",
                "    m['control'] = 0\r\n",
                "    m['ta'] = 0\r\n",
                "    for r in block[2::2]:\r\n",
                "        x, y = r.split(':')\r\n",
                "        t = sum(int(e) for e in y.split(','))\r\n",
                "        if x.startswith('meter_'):\r\n",
                "            meter_num += 1\r\n",
                "            meter_time += t\r\n",
                "        elif x in control:\r\n",
                "            m['control'] = +t\r\n",
                "        elif x in ta:\r\n",
                "            m['ta'] = t\r\n",
                "        else:\r\n",
                "            m[x] = t\r\n",
                "    \r\n",
                "    m['meter_num'] = meter_num\r\n",
                "    m['meter_time'] = meter_time\r\n",
                "    return m\r\n",
                "\r\n",
                "def parse_record(lines):\r\n",
                "    pattern = '[^ ]*$'\r\n",
                "    host_pattern = '[^ ]*'\r\n",
                "    name_pattern = 'bjut\\.(.*)\\.myMain'\r\n",
                "    host = re.search(host_pattern, lines[0]).group()\r\n",
                "    name = re.findall(name_pattern, lines[0])[0]\r\n",
                "\r\n",
                "    func_block = []\r\n",
                "    block = []\r\n",
                "    for line in lines:\r\n",
                "        s = re.search(pattern, line).group().strip()\r\n",
                "        # print(s)\r\n",
                "        # parse function block\r\n",
                "        if ':' not in s: # enter function\r\n",
                "            if len(block) != 0:\r\n",
                "                func_block.append(block)\r\n",
                "            block = []\r\n",
                "            block.append(s)\r\n",
                "        else:\r\n",
                "            block.append(s)\r\n",
                "    if len(block) != 0:\r\n",
                "        func_block.append(block)\r\n",
                "\r\n",
                "    # print(func_block[0])\r\n",
                "    record_list = []\r\n",
                "    for b in func_block:\r\n",
                "        r = parse_block(b)\r\n",
                "        r['host'] = host\r\n",
                "        r['name'] = name\r\n",
                "        record_list.append(r)\r\n",
                "    return record_list"
            ],
            "outputs": [],
            "metadata": {}
        },
        {
            "cell_type": "code",
            "execution_count": 100,
            "source": [
                "\r\n",
                "\r\n",
                "import csv\r\n",
                "\r\n",
                "fields_name = []\r\n",
                "with open('data.csv', 'w', newline='') as csvfile:\r\n",
                "    writer = None\r\n",
                "    for l in log_list:\r\n",
                "        log_time = parse_time(l)\r\n",
                "        with open(l) as fo:\r\n",
                "            record = parse_record(fo.readlines())\r\n",
                "            if len(fields_name) == 0:\r\n",
                "                fields_name  = fields_name + [k for k in record[0].keys()]\r\n",
                "                fields_name.append('timestamp')\r\n",
                "                writer = csv.DictWriter(csvfile, fieldnames=fields_name)\r\n",
                "                writer.writeheader()\r\n",
                "                # print(fields_name)\r\n",
                "            for l in record:\r\n",
                "                l['timestamp'] = log_time\r\n",
                "                writer.writerow(l)"
            ],
            "outputs": [],
            "metadata": {}
        }
    ],
    "metadata": {
        "orig_nbformat": 4,
        "language_info": {
            "name": "python"
        }
    },
    "nbformat": 4,
    "nbformat_minor": 2
}