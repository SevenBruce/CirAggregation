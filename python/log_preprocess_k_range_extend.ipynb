{
    "cells": [
        {
            "cell_type": "code",
            "execution_count": 1,
            "source": [
                "import numpy as np\r\n",
                "import os\r\n",
                "\r\n",
                "log_dir = 'k_log\\ExperimentsKE'\r\n",
                "log_list = []\r\n",
                "time_list = []\r\n",
                "for r, _, files in os.walk(log_dir):\r\n",
                "    for f in files:\r\n",
                "        fname = os.path.join(r, f)\r\n",
                "        if fname.endswith('.log'):\r\n",
                "            log_list.append(fname)\r\n",
                "        else:\r\n",
                "            time_list.append(fname)\r\n",
                "# print(time_list)\r\n",
                "print(len(log_list))"
            ],
            "outputs": [
                {
                    "output_type": "stream",
                    "name": "stdout",
                    "text": [
                        "1001\n"
                    ]
                }
            ],
            "metadata": {}
        },
        {
            "cell_type": "code",
            "execution_count": 2,
            "source": [
                "import re\r\n",
                "\r\n",
                "def parse_time(l):\r\n",
                "    pattern = '[0-9]{4}-[0-9]{2}-[0-9]{2}T[0-9]{6}'\r\n",
                "    base = os.path.basename(l)\r\n",
                "    return re.search(pattern, base).group()\r\n",
                "\r\n",
                "print(log_list[0])\r\n",
                "t = parse_time(log_list[0])\r\n",
                "\r\n",
                "print(t)"
            ],
            "outputs": [
                {
                    "output_type": "stream",
                    "name": "stdout",
                    "text": [
                        "k_log\\ExperimentsKE\\log_2021-08-01T222805.log\n",
                        "2021-08-01T222805\n"
                    ]
                }
            ],
            "metadata": {}
        },
        {
            "cell_type": "code",
            "execution_count": 3,
            "source": [
                "def parse_block(block, name, host):\r\n",
                "    m = {}\r\n",
                "    m['func'] = block[0]\r\n",
                "    meter_num = 0\r\n",
                "    meter_time = 0\r\n",
                "    control =['server', 'supplier', 'center']\r\n",
                "    ta = ['ttp', 'kgc', 'ta']\r\n",
                "    m['control'] = 0\r\n",
                "    m['ta'] = 0\r\n",
                "    m['agg'] = 0\r\n",
                "    for r in block[2::2]:\r\n",
                "        x, y = r.split(':')\r\n",
                "        t = sum(int(e) for e in y.split(','))\r\n",
                "        if x.startswith('meter_'):\r\n",
                "            meter_num += 1\r\n",
                "            meter_time += t\r\n",
                "        elif x in control:\r\n",
                "            m['control'] = +t\r\n",
                "        elif x in ta:\r\n",
                "            m['ta'] = t\r\n",
                "        else:\r\n",
                "            m[x] = t\r\n",
                "    \r\n",
                "    m['meter_num'] = meter_num\r\n",
                "    m['meter_time'] = meter_time\r\n",
                "    m['name'] = name\r\n",
                "    m['host'] = host\r\n",
                "    return m\r\n",
                "\r\n",
                "def parse_record(lines):\r\n",
                "    k_order = [2,2,2,2,2,2,2,3,4,5,6,7,8,9,10,11,11,11,11,11,12,13,14,15,16,17,18,19,20]\r\n",
                "    pattern = '[^ ]*$'\r\n",
                "    host_pattern = '[^ ]*'\r\n",
                "    name_pattern = 'bjut\\.(.*)\\.myMain'\r\n",
                "    host = re.search(host_pattern, lines[0]).group()\r\n",
                "    name = re.findall(name_pattern, lines[0])[0]\r\n",
                "\r\n",
                "    func_block = []\r\n",
                "    block = []\r\n",
                "    for line in lines:\r\n",
                "        s = re.search(pattern, line).group().strip()\r\n",
                "        # print(s)\r\n",
                "        # parse function block\r\n",
                "        if ':' not in s: # enter function\r\n",
                "            if len(block) != 0:\r\n",
                "                func_block.append(block)\r\n",
                "            block = []\r\n",
                "            block.append(s)\r\n",
                "        else:\r\n",
                "            block.append(s)\r\n",
                "    if len(block) != 0:\r\n",
                "        func_block.append(block)\r\n",
                "\r\n",
                "    # print(func_block[0])\r\n",
                "    record_list = []\r\n",
                "    for b in func_block:\r\n",
                "        r = parse_block(b, name, host)\r\n",
                "        record_list.append(r)\r\n",
                "    # return record_list\r\n",
                "   \r\n",
                "    for r, k in zip(record_list[2:-1:3], k_order):\r\n",
                "        r['func'] = r['func'] + '_' + str(k)\r\n",
                "    return record_list"
            ],
            "outputs": [],
            "metadata": {}
        },
        {
            "cell_type": "code",
            "execution_count": 4,
            "source": [
                "import csv\r\n",
                "\r\n",
                "linelen_set = {}\r\n",
                "for l in log_list:\r\n",
                "    with open(l) as fo:\r\n",
                "        lines = fo.readlines()\r\n",
                "        line_len = len(lines)\r\n",
                "        if line_len not in linelen_set:\r\n",
                "            linelen_set[line_len] = 1\r\n",
                "        else:\r\n",
                "            linelen_set[line_len] += 1\r\n",
                "print(linelen_set)\r\n",
                "right_line_set = []\r\n",
                "for k,v in linelen_set.items():\r\n",
                "    if v > 20:\r\n",
                "        right_line_set.append(k)\r\n",
                "print(right_line_set)\r\n",
                "\r\n",
                "files = 0\r\n",
                "fields_name = []\r\n",
                "with open('k_extend_data.csv', 'w', newline='') as csvfile:\r\n",
                "    writer = None\r\n",
                "    cur_len = 0\r\n",
                "    for l in log_list:\r\n",
                "        log_time = parse_time(l)\r\n",
                "        with open(l) as fo:\r\n",
                "            try:\r\n",
                "                lines = fo.readlines()\r\n",
                "                line_len = len(lines)\r\n",
                "                if line_len not in right_line_set:\r\n",
                "                    continue\r\n",
                "                record = parse_record(lines)\r\n",
                "                if len(fields_name) == 0:\r\n",
                "                    fields_name  = fields_name + [k for k in record[0].keys()]\r\n",
                "                    fields_name.append('timestamp')\r\n",
                "                    writer = csv.DictWriter(csvfile, fieldnames=fields_name)\r\n",
                "                    writer.writeheader()\r\n",
                "                    print(fields_name)\r\n",
                "                for l in record:\r\n",
                "                    l['timestamp'] = log_time\r\n",
                "                    writer.writerow(l)\r\n",
                "            except ValueError as e:\r\n",
                "                print(l)\r\n",
                "                print(e)\r\n",
                "        files += 1\r\n",
                "\r\n",
                "print('sucess')"
            ],
            "outputs": [
                {
                    "output_type": "stream",
                    "name": "stdout",
                    "text": [
                        "{3960: 999, 1936: 1, 2024: 1}\n",
                        "[3960]\n",
                        "['func', 'control', 'ta', 'agg', 'meter_num', 'meter_time', 'name', 'host', 'timestamp']\n",
                        "sucess\n"
                    ]
                }
            ],
            "metadata": {}
        }
    ],
    "metadata": {
        "orig_nbformat": 4,
        "language_info": {
            "name": "python",
            "version": "3.9.5",
            "mimetype": "text/x-python",
            "codemirror_mode": {
                "name": "ipython",
                "version": 3
            },
            "pygments_lexer": "ipython3",
            "nbconvert_exporter": "python",
            "file_extension": ".py"
        },
        "kernelspec": {
            "name": "python3",
            "display_name": "Python 3.9.5 64-bit ('DataPre': conda)"
        },
        "interpreter": {
            "hash": "da1e21b12b16f7120f4a9ae919ada0ac24c2fd6ca68293dffe3b4a09478a468f"
        }
    },
    "nbformat": 4,
    "nbformat_minor": 2
}