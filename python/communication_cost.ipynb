{
 "cells": [
  {
   "cell_type": "code",
   "execution_count": 1,
   "source": [
    "import pandas as pd\n",
    "from IPython.display import display\n",
    "\n",
    "df = pd.read_excel('computation_cost.xlsx')\n",
    "print(df)"
   ],
   "outputs": [
    {
     "output_type": "stream",
     "name": "stdout",
     "text": [
      "      Rep  Unnamed: 1  Unnamed: 2  Unnamed: 3  Unnamed: 4  Unnamed: 5  \\\n",
      "0     NaN          20        30.0          40        50.0          60   \n",
      "1  Boudia        4875      7312.5        9750     12187.5       14625   \n",
      "2    Chen        6080      9120.0       12160     15200.0       18240   \n",
      "3     Ni         9245     13867.5       18490     23112.5       27735   \n",
      "4    Our         6080      9120.0       12160     15200.0       18240   \n",
      "\n",
      "   Unnamed: 6  \n",
      "0         NaN  \n",
      "1      1950.0  \n",
      "2      2432.0  \n",
      "3      3698.0  \n",
      "4      2432.0  \n"
     ]
    }
   ],
   "metadata": {}
  },
  {
   "cell_type": "code",
   "execution_count": 2,
   "source": [
    "label = df.iloc[1:5, 0].astype('string')\n",
    "print(label)\n",
    "\n",
    "x = df.iloc[0, 1:6].astype('int32')\n",
    "print(x)\n",
    "\n",
    "for y in df.iloc[1:, 1:6].astype('int32').iterrows():\n",
    "    display(y[1])"
   ],
   "outputs": [
    {
     "output_type": "stream",
     "name": "stdout",
     "text": [
      "1    Boudia\n",
      "2      Chen\n",
      "3       Ni \n",
      "4      Our \n",
      "Name: Rep, dtype: string\n",
      "Unnamed: 1    20\n",
      "Unnamed: 2    30\n",
      "Unnamed: 3    40\n",
      "Unnamed: 4    50\n",
      "Unnamed: 5    60\n",
      "Name: 0, dtype: int32\n"
     ]
    },
    {
     "output_type": "display_data",
     "data": {
      "text/plain": [
       "Unnamed: 1     4875\n",
       "Unnamed: 2     7312\n",
       "Unnamed: 3     9750\n",
       "Unnamed: 4    12187\n",
       "Unnamed: 5    14625\n",
       "Name: 1, dtype: int32"
      ]
     },
     "metadata": {}
    },
    {
     "output_type": "display_data",
     "data": {
      "text/plain": [
       "Unnamed: 1     6080\n",
       "Unnamed: 2     9120\n",
       "Unnamed: 3    12160\n",
       "Unnamed: 4    15200\n",
       "Unnamed: 5    18240\n",
       "Name: 2, dtype: int32"
      ]
     },
     "metadata": {}
    },
    {
     "output_type": "display_data",
     "data": {
      "text/plain": [
       "Unnamed: 1     9245\n",
       "Unnamed: 2    13867\n",
       "Unnamed: 3    18490\n",
       "Unnamed: 4    23112\n",
       "Unnamed: 5    27735\n",
       "Name: 3, dtype: int32"
      ]
     },
     "metadata": {}
    },
    {
     "output_type": "display_data",
     "data": {
      "text/plain": [
       "Unnamed: 1     6080\n",
       "Unnamed: 2     9120\n",
       "Unnamed: 3    12160\n",
       "Unnamed: 4    15200\n",
       "Unnamed: 5    18240\n",
       "Name: 4, dtype: int32"
      ]
     },
     "metadata": {}
    }
   ],
   "metadata": {}
  },
  {
   "cell_type": "code",
   "execution_count": 3,
   "source": [
    "import matplotlib.pyplot as plt\n",
    "plt.rcParams[\"font.size\"] = 10\n",
    "# plt.rcParams['font.weight'] = 'bold'\n",
    "# plt.rcParams['axes.labelweight'] = 'bold'\n",
    "plt.rcParams['lines.linewidth'] = 0.5\n",
    "plt.rcParams['lines.markersize'] = 2.5\n",
    "plt.rcParams[\"figure.figsize\"] = (5, 4)\n",
    "plt.rcParams[\"savefig.dpi\"] = 300\n",
    "plt.rcParams[\"axes.formatter.use_mathtext\"] = True\n",
    "markers = ['o', 'v', 's', 'd', 'X']\n",
    "color = ['b', 'y', 'g', 'r']"
   ],
   "outputs": [],
   "metadata": {}
  },
  {
   "cell_type": "code",
   "execution_count": 4,
   "source": [
    "i = 0\n",
    "for y in df.iloc[1:, 1:6].astype('int32').iterrows():\n",
    "    plt.plot(x, y[1], marker=markers[i], color=color[i], label=label.iloc[i])\n",
    "    # plt.plot(x, y[1])\n",
    "    i += 1\n",
    "plt.xlabel('#Meters')\n",
    "plt.ylabel('Total communication time(ms)')\n",
    "plt.ticklabel_format(axis='y', style='sci', scilimits=(-4, 3))\n",
    "plt.grid()\n",
    "plt.legend()\n",
    "plt.savefig('figs/total_communication.svg')\n",
    "plt.show()"
   ],
   "outputs": [
    {
     "output_type": "display_data",
     "data": {
      "text/plain": [
       "<Figure size 360x288 with 1 Axes>"
      ],
      "image/png": "[encoded data removed]"
     },
     "metadata": {
      "needs_background": "light"
     }
    }
   ],
   "metadata": {}
  }
 ],
 "metadata": {
  "orig_nbformat": 4,
  "language_info": {
   "name": "python",
   "version": "3.8.5",
   "mimetype": "text/x-python",
   "codemirror_mode": {
    "name": "ipython",
    "version": 3
   },
   "pygments_lexer": "ipython3",
   "nbconvert_exporter": "python",
   "file_extension": ".py"
  },
  "kernelspec": {
   "name": "python3",
   "display_name": "Python 3.8.5 64-bit ('sci': conda)"
  },
  "interpreter": {
   "hash": "824148249c572b9bdacecab5898e3922dbd15dbfe1d221af1999b32354c4b077"
  }
 },
 "nbformat": 4,
 "nbformat_minor": 2
}